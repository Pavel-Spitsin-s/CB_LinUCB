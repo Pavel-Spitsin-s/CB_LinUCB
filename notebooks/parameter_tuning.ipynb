{
 "cells": [
  {
   "cell_type": "markdown",
   "metadata": {},
   "source": [
    "# Parameter Tuning for Bandit Algorithms\n",
    "\n",
    "This notebook focuses on testing different parameter settings for various bandit algorithms."
   ]
  },
  {
   "cell_type": "code",
   "execution_count": null,
   "metadata": {},
   "source": [
    "import sys\n",
    "sys.path.append('..')\n",
    "\n",
    "from bandits.simple import EpsilonGreedy, Softmax, UCB, VDBE\n",
    "from bandits.linear import LinUCBDisjoint, LinUCBHybrid\n",
    "from bandits.dynamic import DLinUCB\n",
    "from data.datasets import Iris, Mushroom\n",
    "from utils.visualization import compare_parameter_sensitivity, plot_experiments_results"
   ]
  },
  {
   "cell_type": "markdown",
   "metadata": {},
   "source": [
    "## Tuning Epsilon for EpsilonGreedy"
   ]
  },
  {
   "cell_type": "code",
   "execution_count": null,
   "metadata": {},
   "source": [
    "# Test different epsilon values\n",
    "epsilon_values = [0.01, 0.1, 0.3, 0.5, 0.9]\n",
    "results_list = []\n",
    "\n",
    "for eps in epsilon_values:\n",
    "    config = [{'name': f'EpsilonGreedy (ε={eps})', 'class': EpsilonGreedy, 'params': {'eps': eps}}]\n",
    "    iris_experiment = Iris(k=2)\n",
    "    results = iris_experiment.run_experiments(config, num_experiments=10, num_rounds=1000)\n",
    "    results_list.append(results)\n",
    "\n",
    "compare_parameter_sensitivity(results_list, epsilon_values, 'ε', metric='ctr')"
   ]
  },
  {
   "cell_type": "markdown",
   "metadata": {},
   "source": [
    "## Tuning Temperature for Softmax"
   ]
  },
  {
   "cell_type": "code",
   "execution_count": null,
   "metadata": {},
   "source": [
    "# Test different temperature values\n",
    "temperature_values = [0.1, 0.5, 1.0, 5.0, 10.0]\n",
    "results_list = []\n",
    "\n",
    "for temp in temperature_values:\n",
    "    config = [{'name': f'Softmax (temp={temp})', 'class': Softmax, 'params': {'temperature': temp}}]\n",
    "    iris_experiment = Iris(k=2)\n",
    "    results = iris_experiment.run_experiments(config, num_experiments=10, num_rounds=1000)\n",
    "    results_list.append(results)\n",
    "\n",
    "compare_parameter_sensitivity(results_list, temperature_values, 'temperature', metric='ctr')"
   ]
  },
  {
   "cell_type": "markdown",
   "metadata": {},
   "source": [
    "## Tuning Alpha for UCB"
   ]
  },
  {
   "cell_type": "code",
   "execution_count": null,
   "metadata": {},
   "source": [
    "# Test different alpha values\n",
    "alpha_values = [0.1, 0.5, 1.0, 2.0, 5.0]\n",
    "results_list = []\n",
    "\n",
    "for alpha in alpha_values:\n",
    "    config = [{'name': f'UCB (α={alpha})', 'class': UCB, 'params': {'alpha': alpha}}]\n",
    "    iris_experiment = Iris(k=2)\n",
    "    results = iris_experiment.run_experiments(config, num_experiments=10, num_rounds=1000)\n",
    "    results_list.append(results)\n",
    "\n",
    "compare_parameter_sensitivity(results_list, alpha_values, 'α', metric='ctr')"
   ]
  },
  {
   "cell_type": "markdown",
   "metadata": {},
   "source": [
    "## Tuning Sigma for VDBE"
   ]
  },
  {
   "cell_type": "code",
   "execution_count": null,
   "metadata": {},
   "source": [
    "# Test different sigma values\n",
    "sigma_values = [0.01, 0.1, 0.33, 0.5, 0.9]\n",
    "results_list = []\n",
    "\n",
    "for sigma in sigma_values:\n",
    "    config = [{'name': f'VDBE (σ={sigma})', 'class': VDBE, 'params': {'sigma': sigma}}]\n",
    "    iris_experiment = Iris(k=2)\n",
    "    results = iris_experiment.run_experiments(config, num_experiments=10, num_rounds=1000)\n",
    "    results_list.append(results)\n",
    "\n",
    "compare_parameter_sensitivity(results_list, sigma_values, 'σ', metric='ctr')"
   ]
  },
  {
   "cell_type": "markdown",
   "metadata": {},
   "source": [
    "## Comparing Different Algorithms with Best Parameters\n",
    "\n",
    "Using the best parameters found above, let's compare all algorithms."
   ]
  },
  {
   "cell_type": "code",
   "execution_count": null,
   "metadata": {},
   "source": [
    "# Define best configurations for each algorithm\n",
    "best_configs = [\n",
    "    {'name': 'EpsilonGreedy (best ε)', 'class': EpsilonGreedy, 'params': {'eps': 0.1}},\n",
    "    {'name': 'Softmax (best temp)', 'class': Softmax, 'params': {'temperature': 0.5}},\n",
    "    {'name': 'UCB (best α)', 'class': UCB, 'params': {'alpha': 1.0}},\n",
    "    {'name': 'VDBE (best σ)', 'class': VDBE, 'params': {'sigma': 0.33}},\n",
    "    {'name': 'LinUCBDisjoint (best α)', 'class': LinUCBDisjoint, 'params': {'alpha': 1.0}},\n",
    "    {'name': 'DLinUCB (best α, γ)', 'class': DLinUCB, 'params': {'alpha': 1.0, 'gamma': 0.95}}\n",
    "]\n",
    "\n",
    "# Run on Iris dataset\n",
    "iris_experiment = Iris(k=2)\n",
    "results_iris = iris_experiment.run_experiments(best_configs, num_experiments=10, num_rounds=2000)\n",
    "\n",
    "# Run on Mushroom dataset\n",
    "mushroom_experiment = Mushroom(k=2, random_k_features=30)\n",
    "results_mushroom = mushroom_experiment.run_experiments(best_configs, num_experiments=10, num_rounds=2000)"
   ]
  }
 ],
 "metadata": {
  "kernelspec": {
   "display_name": "Python 3",
   "language": "python",
   "name": "python3"
  },
  "language_info": {
   "codemirror_mode": {
    "name": "ipython",
    "version": 3
   },
   "file_extension": ".py",
   "mimetype": "text/x-python",
   "name": "python",
   "nbconvert_exporter": "python",
   "pygments_lexer": "ipython3",
   "version": "3.8.5"
  }
 },
 "nbformat": 4,
 "nbformat_minor": 4
}

